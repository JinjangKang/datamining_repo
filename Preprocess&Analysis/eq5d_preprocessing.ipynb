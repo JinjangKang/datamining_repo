{
 "cells": [
  {
   "cell_type": "code",
   "execution_count": 1,
   "metadata": {
    "collapsed": true
   },
   "outputs": [],
   "source": [
    "import numpy as np\n",
    "import pandas as pd\n",
    "import matplotlib.pyplot as plt"
   ]
  },
  {
   "cell_type": "code",
   "execution_count": 2,
   "outputs": [
    {
     "data": {
      "text/plain": "            sex  age  D_1_1  LQ_1EQL  LQ_2EQL  LQ_3EQL  LQ_4EQL  LQ_5EQL  \\\nID                                                                         \nA801169401    1   39    2.0      1.0      1.0      1.0      1.0      1.0   \nA801169402    2   39    2.0      1.0      1.0      1.0      1.0      1.0   \nA801169403    1   10    2.0      8.0      8.0      8.0      8.0      8.0   \nA801169404    1    7    2.0      8.0      8.0      8.0      8.0      8.0   \nA801169405    1    4    2.0      8.0      8.0      8.0      8.0      8.0   \n...         ...  ...    ...      ...      ...      ...      ...      ...   \nR804366601    2   61    3.0      1.0      1.0      1.0      1.0      1.0   \nR804368301    2   51    3.0      1.0      1.0      1.0      1.0      1.0   \nR804368302    2   24    3.0      1.0      1.0      1.0      1.0      1.0   \nR804371701    1   65    2.0      1.0      1.0      1.0      1.0      1.0   \nR804371702    2   57    4.0      1.0      1.0      1.0      1.0      1.0   \n\n            EQ5D  EC_wht_23  ...  pa_aerobic     HE_BMI  HE_obe  BM1_0  E_NWT  \\\nID                           ...                                                \nA801169401   1.0       40.0  ...         0.0  24.185489     3.0    1.0    NaN   \nA801169402   1.0       35.0  ...         0.0  17.935939     1.0    1.0    NaN   \nA801169403   NaN      888.0  ...         NaN  13.997271     NaN    1.0    NaN   \nA801169404   NaN      888.0  ...         NaN  16.517345     NaN    1.0    NaN   \nA801169405   NaN      888.0  ...         NaN  14.094637     NaN    1.0    NaN   \n...          ...        ...  ...         ...        ...     ...    ...    ...   \nR804366601   1.0       25.0  ...         0.0  23.913275     3.0    1.0    4.0   \nR804368301   1.0       45.0  ...         1.0  24.739601     3.0    1.0    4.0   \nR804368302   1.0       40.0  ...         0.0  26.129927     4.0    1.0    NaN   \nR804371701   1.0      888.0  ...         0.0  25.941572     4.0    1.0    2.0   \nR804371702   1.0       15.0  ...         1.0  22.287517     2.0    1.0    2.0   \n\n            L_BR_FQ  LS_1YR  DQ_SODA  DQ_COFFEE  DQ_SCOFFEE  \nID                                                           \nA801169401      4.0     1.0     88.0       88.0        88.0  \nA801169402      4.0     2.0     88.0       88.0        88.0  \nA801169403      1.0     1.0      1.0        1.0         1.0  \nA801169404      1.0     1.0      1.0        1.0         1.0  \nA801169405      1.0     1.0     88.0       88.0        88.0  \n...             ...     ...      ...        ...         ...  \nR804366601      1.0     1.0     88.0       88.0        88.0  \nR804368301      3.0     1.0     88.0       88.0        88.0  \nR804368302      4.0     2.0      1.0        6.0         1.0  \nR804371701      1.0     1.0     88.0       88.0        88.0  \nR804371702      1.0     2.0     88.0       88.0        88.0  \n\n[7359 rows x 34 columns]",
      "text/html": "<div>\n<style scoped>\n    .dataframe tbody tr th:only-of-type {\n        vertical-align: middle;\n    }\n\n    .dataframe tbody tr th {\n        vertical-align: top;\n    }\n\n    .dataframe thead th {\n        text-align: right;\n    }\n</style>\n<table border=\"1\" class=\"dataframe\">\n  <thead>\n    <tr style=\"text-align: right;\">\n      <th></th>\n      <th>sex</th>\n      <th>age</th>\n      <th>D_1_1</th>\n      <th>LQ_1EQL</th>\n      <th>LQ_2EQL</th>\n      <th>LQ_3EQL</th>\n      <th>LQ_4EQL</th>\n      <th>LQ_5EQL</th>\n      <th>EQ5D</th>\n      <th>EC_wht_23</th>\n      <th>...</th>\n      <th>pa_aerobic</th>\n      <th>HE_BMI</th>\n      <th>HE_obe</th>\n      <th>BM1_0</th>\n      <th>E_NWT</th>\n      <th>L_BR_FQ</th>\n      <th>LS_1YR</th>\n      <th>DQ_SODA</th>\n      <th>DQ_COFFEE</th>\n      <th>DQ_SCOFFEE</th>\n    </tr>\n    <tr>\n      <th>ID</th>\n      <th></th>\n      <th></th>\n      <th></th>\n      <th></th>\n      <th></th>\n      <th></th>\n      <th></th>\n      <th></th>\n      <th></th>\n      <th></th>\n      <th></th>\n      <th></th>\n      <th></th>\n      <th></th>\n      <th></th>\n      <th></th>\n      <th></th>\n      <th></th>\n      <th></th>\n      <th></th>\n      <th></th>\n    </tr>\n  </thead>\n  <tbody>\n    <tr>\n      <th>A801169401</th>\n      <td>1</td>\n      <td>39</td>\n      <td>2.0</td>\n      <td>1.0</td>\n      <td>1.0</td>\n      <td>1.0</td>\n      <td>1.0</td>\n      <td>1.0</td>\n      <td>1.0</td>\n      <td>40.0</td>\n      <td>...</td>\n      <td>0.0</td>\n      <td>24.185489</td>\n      <td>3.0</td>\n      <td>1.0</td>\n      <td>NaN</td>\n      <td>4.0</td>\n      <td>1.0</td>\n      <td>88.0</td>\n      <td>88.0</td>\n      <td>88.0</td>\n    </tr>\n    <tr>\n      <th>A801169402</th>\n      <td>2</td>\n      <td>39</td>\n      <td>2.0</td>\n      <td>1.0</td>\n      <td>1.0</td>\n      <td>1.0</td>\n      <td>1.0</td>\n      <td>1.0</td>\n      <td>1.0</td>\n      <td>35.0</td>\n      <td>...</td>\n      <td>0.0</td>\n      <td>17.935939</td>\n      <td>1.0</td>\n      <td>1.0</td>\n      <td>NaN</td>\n      <td>4.0</td>\n      <td>2.0</td>\n      <td>88.0</td>\n      <td>88.0</td>\n      <td>88.0</td>\n    </tr>\n    <tr>\n      <th>A801169403</th>\n      <td>1</td>\n      <td>10</td>\n      <td>2.0</td>\n      <td>8.0</td>\n      <td>8.0</td>\n      <td>8.0</td>\n      <td>8.0</td>\n      <td>8.0</td>\n      <td>NaN</td>\n      <td>888.0</td>\n      <td>...</td>\n      <td>NaN</td>\n      <td>13.997271</td>\n      <td>NaN</td>\n      <td>1.0</td>\n      <td>NaN</td>\n      <td>1.0</td>\n      <td>1.0</td>\n      <td>1.0</td>\n      <td>1.0</td>\n      <td>1.0</td>\n    </tr>\n    <tr>\n      <th>A801169404</th>\n      <td>1</td>\n      <td>7</td>\n      <td>2.0</td>\n      <td>8.0</td>\n      <td>8.0</td>\n      <td>8.0</td>\n      <td>8.0</td>\n      <td>8.0</td>\n      <td>NaN</td>\n      <td>888.0</td>\n      <td>...</td>\n      <td>NaN</td>\n      <td>16.517345</td>\n      <td>NaN</td>\n      <td>1.0</td>\n      <td>NaN</td>\n      <td>1.0</td>\n      <td>1.0</td>\n      <td>1.0</td>\n      <td>1.0</td>\n      <td>1.0</td>\n    </tr>\n    <tr>\n      <th>A801169405</th>\n      <td>1</td>\n      <td>4</td>\n      <td>2.0</td>\n      <td>8.0</td>\n      <td>8.0</td>\n      <td>8.0</td>\n      <td>8.0</td>\n      <td>8.0</td>\n      <td>NaN</td>\n      <td>888.0</td>\n      <td>...</td>\n      <td>NaN</td>\n      <td>14.094637</td>\n      <td>NaN</td>\n      <td>1.0</td>\n      <td>NaN</td>\n      <td>1.0</td>\n      <td>1.0</td>\n      <td>88.0</td>\n      <td>88.0</td>\n      <td>88.0</td>\n    </tr>\n    <tr>\n      <th>...</th>\n      <td>...</td>\n      <td>...</td>\n      <td>...</td>\n      <td>...</td>\n      <td>...</td>\n      <td>...</td>\n      <td>...</td>\n      <td>...</td>\n      <td>...</td>\n      <td>...</td>\n      <td>...</td>\n      <td>...</td>\n      <td>...</td>\n      <td>...</td>\n      <td>...</td>\n      <td>...</td>\n      <td>...</td>\n      <td>...</td>\n      <td>...</td>\n      <td>...</td>\n      <td>...</td>\n    </tr>\n    <tr>\n      <th>R804366601</th>\n      <td>2</td>\n      <td>61</td>\n      <td>3.0</td>\n      <td>1.0</td>\n      <td>1.0</td>\n      <td>1.0</td>\n      <td>1.0</td>\n      <td>1.0</td>\n      <td>1.0</td>\n      <td>25.0</td>\n      <td>...</td>\n      <td>0.0</td>\n      <td>23.913275</td>\n      <td>3.0</td>\n      <td>1.0</td>\n      <td>4.0</td>\n      <td>1.0</td>\n      <td>1.0</td>\n      <td>88.0</td>\n      <td>88.0</td>\n      <td>88.0</td>\n    </tr>\n    <tr>\n      <th>R804368301</th>\n      <td>2</td>\n      <td>51</td>\n      <td>3.0</td>\n      <td>1.0</td>\n      <td>1.0</td>\n      <td>1.0</td>\n      <td>1.0</td>\n      <td>1.0</td>\n      <td>1.0</td>\n      <td>45.0</td>\n      <td>...</td>\n      <td>1.0</td>\n      <td>24.739601</td>\n      <td>3.0</td>\n      <td>1.0</td>\n      <td>4.0</td>\n      <td>3.0</td>\n      <td>1.0</td>\n      <td>88.0</td>\n      <td>88.0</td>\n      <td>88.0</td>\n    </tr>\n    <tr>\n      <th>R804368302</th>\n      <td>2</td>\n      <td>24</td>\n      <td>3.0</td>\n      <td>1.0</td>\n      <td>1.0</td>\n      <td>1.0</td>\n      <td>1.0</td>\n      <td>1.0</td>\n      <td>1.0</td>\n      <td>40.0</td>\n      <td>...</td>\n      <td>0.0</td>\n      <td>26.129927</td>\n      <td>4.0</td>\n      <td>1.0</td>\n      <td>NaN</td>\n      <td>4.0</td>\n      <td>2.0</td>\n      <td>1.0</td>\n      <td>6.0</td>\n      <td>1.0</td>\n    </tr>\n    <tr>\n      <th>R804371701</th>\n      <td>1</td>\n      <td>65</td>\n      <td>2.0</td>\n      <td>1.0</td>\n      <td>1.0</td>\n      <td>1.0</td>\n      <td>1.0</td>\n      <td>1.0</td>\n      <td>1.0</td>\n      <td>888.0</td>\n      <td>...</td>\n      <td>0.0</td>\n      <td>25.941572</td>\n      <td>4.0</td>\n      <td>1.0</td>\n      <td>2.0</td>\n      <td>1.0</td>\n      <td>1.0</td>\n      <td>88.0</td>\n      <td>88.0</td>\n      <td>88.0</td>\n    </tr>\n    <tr>\n      <th>R804371702</th>\n      <td>2</td>\n      <td>57</td>\n      <td>4.0</td>\n      <td>1.0</td>\n      <td>1.0</td>\n      <td>1.0</td>\n      <td>1.0</td>\n      <td>1.0</td>\n      <td>1.0</td>\n      <td>15.0</td>\n      <td>...</td>\n      <td>1.0</td>\n      <td>22.287517</td>\n      <td>2.0</td>\n      <td>1.0</td>\n      <td>2.0</td>\n      <td>1.0</td>\n      <td>2.0</td>\n      <td>88.0</td>\n      <td>88.0</td>\n      <td>88.0</td>\n    </tr>\n  </tbody>\n</table>\n<p>7359 rows × 34 columns</p>\n</div>"
     },
     "execution_count": 2,
     "metadata": {},
     "output_type": "execute_result"
    }
   ],
   "source": [
    "data = pd.read_csv(\"../datasets/20_dataset.csv\", index_col=0)\n",
    "data"
   ],
   "metadata": {
    "collapsed": false
   }
  },
  {
   "cell_type": "code",
   "execution_count": 3,
   "outputs": [
    {
     "data": {
      "text/plain": "1947"
     },
     "execution_count": 3,
     "metadata": {},
     "output_type": "execute_result"
    }
   ],
   "source": [
    "data['EQ5D'].isna().sum()"
   ],
   "metadata": {
    "collapsed": false
   }
  },
  {
   "cell_type": "code",
   "execution_count": 4,
   "outputs": [
    {
     "data": {
      "text/plain": "7359"
     },
     "execution_count": 4,
     "metadata": {},
     "output_type": "execute_result"
    }
   ],
   "source": [
    "len(data)"
   ],
   "metadata": {
    "collapsed": false
   }
  },
  {
   "cell_type": "code",
   "execution_count": 5,
   "outputs": [
    {
     "name": "stdout",
     "output_type": "stream",
     "text": [
      "5412\n"
     ]
    }
   ],
   "source": [
    "print(len(data)- data['EQ5D'].isna().sum())"
   ],
   "metadata": {
    "collapsed": false
   }
  },
  {
   "cell_type": "markdown",
   "source": [
    "#1 결측 데이터 삭제\n",
    "#2"
   ],
   "metadata": {
    "collapsed": false
   }
  },
  {
   "cell_type": "code",
   "execution_count": 6,
   "outputs": [
    {
     "name": "stdout",
     "output_type": "stream",
     "text": [
      "265\n",
      "265\n",
      "265\n",
      "265\n",
      "265\n"
     ]
    }
   ],
   "source": [
    "print(data['LQ_1EQL'].isna().sum())\n",
    "print(data['LQ_2EQL'].isna().sum())\n",
    "print(data['LQ_3EQL'].isna().sum())\n",
    "print(data['LQ_4EQL'].isna().sum())\n",
    "print(data['LQ_5EQL'].isna().sum())\n"
   ],
   "metadata": {
    "collapsed": false
   }
  },
  {
   "cell_type": "code",
   "execution_count": 6,
   "outputs": [],
   "source": [
    "data['sm_presnt_a'] = None\n",
    "sm_presnt = raw_data.loc[:, 'sm_presnt_a']"
   ],
   "metadata": {
    "collapsed": false
   }
  },
  {
   "cell_type": "code",
   "execution_count": 7,
   "outputs": [
    {
     "data": {
      "text/plain": "ID\nA801169401    None\nA801169402    None\nA801169403    None\nA801169404    None\nA801169405    None\n              ... \nR804366601    None\nR804368301    None\nR804368302    None\nR804371701    None\nR804371702    None\nName: eq5l_new, Length: 7359, dtype: object"
     },
     "execution_count": 7,
     "metadata": {},
     "output_type": "execute_result"
    }
   ],
   "source": [
    "LQ_2EQL = data.loc[:,'LQ_2EQL']\n",
    "LQ_3EQL = data.loc[:,'LQ_3EQL']\n",
    "LQ_4EQL = data.loc[:,'LQ_4EQL']\n",
    "LQ_5EQL = data.loc[:,'LQ_5EQL']\n",
    "\n",
    "data['eq5l_new'] = None\n",
    "eq5l_new = data.loc[:, 'eq5l_new']\n",
    "\n",
    "eq5l_new"
   ],
   "metadata": {
    "collapsed": false
   }
  },
  {
   "cell_type": "code",
   "execution_count": 8,
   "outputs": [
    {
     "name": "stdout",
     "output_type": "stream",
     "text": [
      "3.0      19\n",
      "2.0     685\n",
      "0.0    1945\n",
      "1.0    4710\n",
      "Name: LQ_1EQL, dtype: int64\n",
      "3.0       8\n",
      "2.0     177\n",
      "0.0    1945\n",
      "1.0    5229\n",
      "Name: LQ_2EQL, dtype: int64\n",
      "3.0      19\n",
      "2.0     333\n",
      "0.0    1946\n",
      "1.0    5061\n",
      "Name: LQ_3EQL, dtype: int64\n",
      "3.0      97\n",
      "2.0     996\n",
      "0.0    1946\n",
      "1.0    4320\n",
      "Name: LQ_4EQL, dtype: int64\n",
      "3.0      32\n",
      "2.0     485\n",
      "0.0    1947\n",
      "1.0    4895\n",
      "Name: LQ_5EQL, dtype: int64\n"
     ]
    }
   ],
   "source": [
    "data['LQ_1EQL'].fillna(0, inplace=True)\n",
    "data['LQ_1EQL'].replace({8: 0, 9: 0}, inplace=True)\n",
    "\n",
    "data['LQ_2EQL'].fillna(0, inplace=True)\n",
    "data['LQ_2EQL'].replace({8: 0, 9: 0}, inplace=True)\n",
    "\n",
    "data['LQ_3EQL'].fillna(0, inplace=True)\n",
    "data['LQ_3EQL'].replace({8: 0, 9: 0}, inplace=True)\n",
    "\n",
    "data['LQ_4EQL'].fillna(0, inplace=True)\n",
    "data['LQ_4EQL'].replace({8: 0, 9: 0}, inplace=True)\n",
    "\n",
    "data['LQ_5EQL'].fillna(0, inplace=True)\n",
    "data['LQ_5EQL'].replace({8: 0, 9: 0}, inplace=True)\n",
    "\n",
    "LQ_1EQL = data.loc[:,'LQ_1EQL']\n",
    "LQ_2EQL = data.loc[:,'LQ_2EQL']\n",
    "LQ_3EQL = data.loc[:,'LQ_3EQL']\n",
    "LQ_4EQL = data.loc[:,'LQ_4EQL']\n",
    "LQ_5EQL = data.loc[:,'LQ_5EQL']\n",
    "\n",
    "\n",
    "print(LQ_1EQL.value_counts(ascending=True))\n",
    "print(LQ_2EQL.value_counts(ascending=True))\n",
    "print(LQ_3EQL.value_counts(ascending=True))\n",
    "print(LQ_4EQL.value_counts(ascending=True))\n",
    "print(LQ_5EQL.value_counts(ascending=True))\n"
   ],
   "metadata": {
    "collapsed": false
   }
  },
  {
   "cell_type": "code",
   "execution_count": 9,
   "outputs": [
    {
     "name": "stdout",
     "output_type": "stream",
     "text": [
      "ID\n",
      "A801169401    False\n",
      "A801169402    False\n",
      "A801169403    False\n",
      "A801169404    False\n",
      "A801169405    False\n",
      "              ...  \n",
      "R804366601    False\n",
      "R804368301    False\n",
      "R804368302    False\n",
      "R804371701    False\n",
      "R804371702    False\n",
      "Name: M2, Length: 7359, dtype: bool\n",
      "False    6674\n",
      "True      685\n",
      "Name: M2, dtype: int64\n"
     ]
    }
   ],
   "source": [
    "\n",
    "for i in range(len(data)):\n",
    "    if LQ_1EQL.isin((1,2,3)).any():\n",
    "        M2 = LQ_1EQL == 2\n",
    "\n",
    "data['M2'] = M2\n",
    "print(data['M2'])\n",
    "print(data['M2'].value_counts())\n",
    "\n",
    "# true_count = M2.count(True)\n",
    "# false_count = M2.count(False)\n",
    "#\n",
    "# print(f'True : {true_count}, False : {false_count}')"
   ],
   "metadata": {
    "collapsed": false
   }
  },
  {
   "cell_type": "code",
   "execution_count": 10,
   "outputs": [
    {
     "name": "stdout",
     "output_type": "stream",
     "text": [
      "ID\n",
      "A801169401    False\n",
      "A801169402    False\n",
      "A801169403    False\n",
      "A801169404    False\n",
      "A801169405    False\n",
      "              ...  \n",
      "R804366601    False\n",
      "R804368301    False\n",
      "R804368302    False\n",
      "R804371701    False\n",
      "R804371702    False\n",
      "Name: M3, Length: 7359, dtype: bool\n",
      "False    7340\n",
      "True       19\n",
      "Name: M3, dtype: int64\n"
     ]
    }
   ],
   "source": [
    "for i in range(len(data)):\n",
    "    if LQ_1EQL.isin((1,2,3)).any():\n",
    "        M3 = LQ_1EQL == 3\n",
    "\n",
    "data['M3'] = M3\n",
    "print(data['M3'])\n",
    "print(data['M3'].value_counts())"
   ],
   "metadata": {
    "collapsed": false
   }
  },
  {
   "cell_type": "code",
   "execution_count": 11,
   "outputs": [
    {
     "name": "stdout",
     "output_type": "stream",
     "text": [
      "ID\n",
      "A801169401    False\n",
      "A801169402    False\n",
      "A801169403    False\n",
      "A801169404    False\n",
      "A801169405    False\n",
      "              ...  \n",
      "R804366601    False\n",
      "R804368301    False\n",
      "R804368302    False\n",
      "R804371701    False\n",
      "R804371702    False\n",
      "Name: SC2, Length: 7359, dtype: bool\n",
      "False    7182\n",
      "True      177\n",
      "Name: SC2, dtype: int64\n"
     ]
    }
   ],
   "source": [
    "for i in range(len(data)):\n",
    "    if LQ_2EQL.isin((1,2,3)).any():\n",
    "        SC2 = LQ_2EQL == 2\n",
    "\n",
    "data['SC2'] = SC2\n",
    "print(data['SC2'])\n",
    "print(data['SC2'].value_counts())"
   ],
   "metadata": {
    "collapsed": false
   }
  },
  {
   "cell_type": "code",
   "execution_count": 12,
   "outputs": [
    {
     "name": "stdout",
     "output_type": "stream",
     "text": [
      "ID\n",
      "A801169401    False\n",
      "A801169402    False\n",
      "A801169403    False\n",
      "A801169404    False\n",
      "A801169405    False\n",
      "              ...  \n",
      "R804366601    False\n",
      "R804368301    False\n",
      "R804368302    False\n",
      "R804371701    False\n",
      "R804371702    False\n",
      "Name: SC3, Length: 7359, dtype: bool\n",
      "False    7351\n",
      "True        8\n",
      "Name: SC3, dtype: int64\n"
     ]
    }
   ],
   "source": [
    "for i in range(len(data)):\n",
    "    if LQ_2EQL.isin((1,2,3)).any():\n",
    "        SC3 = LQ_2EQL == 3\n",
    "\n",
    "data['SC3'] = SC3\n",
    "print(data['SC3'])\n",
    "print(data['SC3'].value_counts())"
   ],
   "metadata": {
    "collapsed": false
   }
  },
  {
   "cell_type": "code",
   "execution_count": 13,
   "outputs": [
    {
     "name": "stdout",
     "output_type": "stream",
     "text": [
      "ID\n",
      "A801169401    False\n",
      "A801169402    False\n",
      "A801169403    False\n",
      "A801169404    False\n",
      "A801169405    False\n",
      "              ...  \n",
      "R804366601    False\n",
      "R804368301    False\n",
      "R804368302    False\n",
      "R804371701    False\n",
      "R804371702    False\n",
      "Name: UA2, Length: 7359, dtype: bool\n",
      "False    7026\n",
      "True      333\n",
      "Name: UA2, dtype: int64\n"
     ]
    }
   ],
   "source": [
    "for i in range(len(data)):\n",
    "    if LQ_3EQL.isin((1,2,3)).any():\n",
    "        UA2 = LQ_3EQL == 2\n",
    "\n",
    "data['UA2'] = UA2\n",
    "print(data['UA2'])\n",
    "print(data['UA2'].value_counts())"
   ],
   "metadata": {
    "collapsed": false
   }
  },
  {
   "cell_type": "code",
   "execution_count": 14,
   "outputs": [
    {
     "name": "stdout",
     "output_type": "stream",
     "text": [
      "ID\n",
      "A801169401    False\n",
      "A801169402    False\n",
      "A801169403    False\n",
      "A801169404    False\n",
      "A801169405    False\n",
      "              ...  \n",
      "R804366601    False\n",
      "R804368301    False\n",
      "R804368302    False\n",
      "R804371701    False\n",
      "R804371702    False\n",
      "Name: UA3, Length: 7359, dtype: bool\n",
      "False    7340\n",
      "True       19\n",
      "Name: UA3, dtype: int64\n"
     ]
    }
   ],
   "source": [
    "for i in range(len(data)):\n",
    "    if LQ_3EQL.isin((1,2,3)).any():\n",
    "        UA3 = LQ_3EQL == 3\n",
    "\n",
    "data['UA3'] = UA3\n",
    "print(data['UA3'])\n",
    "print(data['UA3'].value_counts())"
   ],
   "metadata": {
    "collapsed": false
   }
  },
  {
   "cell_type": "code",
   "execution_count": 15,
   "outputs": [
    {
     "name": "stdout",
     "output_type": "stream",
     "text": [
      "ID\n",
      "A801169401    False\n",
      "A801169402    False\n",
      "A801169403    False\n",
      "A801169404    False\n",
      "A801169405    False\n",
      "              ...  \n",
      "R804366601    False\n",
      "R804368301    False\n",
      "R804368302    False\n",
      "R804371701    False\n",
      "R804371702    False\n",
      "Name: PD2, Length: 7359, dtype: bool\n",
      "False    6363\n",
      "True      996\n",
      "Name: PD2, dtype: int64\n"
     ]
    }
   ],
   "source": [
    "for i in range(len(data)):\n",
    "    if LQ_4EQL.isin((1,2,3)).any():\n",
    "        PD2 = LQ_4EQL == 2\n",
    "\n",
    "data['PD2'] = PD2\n",
    "print(data['PD2'])\n",
    "print(data['PD2'].value_counts())"
   ],
   "metadata": {
    "collapsed": false
   }
  },
  {
   "cell_type": "code",
   "execution_count": 16,
   "outputs": [
    {
     "name": "stdout",
     "output_type": "stream",
     "text": [
      "ID\n",
      "A801169401    False\n",
      "A801169402    False\n",
      "A801169403    False\n",
      "A801169404    False\n",
      "A801169405    False\n",
      "              ...  \n",
      "R804366601    False\n",
      "R804368301    False\n",
      "R804368302    False\n",
      "R804371701    False\n",
      "R804371702    False\n",
      "Name: PD3, Length: 7359, dtype: bool\n",
      "False    7262\n",
      "True       97\n",
      "Name: PD3, dtype: int64\n"
     ]
    }
   ],
   "source": [
    "for i in range(len(data)):\n",
    "    if LQ_4EQL.isin((1,2,3)).any():\n",
    "        PD3 = LQ_4EQL == 3\n",
    "\n",
    "data['PD3'] = PD3\n",
    "print(data['PD3'])\n",
    "print(data['PD3'].value_counts())"
   ],
   "metadata": {
    "collapsed": false
   }
  },
  {
   "cell_type": "code",
   "execution_count": 17,
   "outputs": [
    {
     "name": "stdout",
     "output_type": "stream",
     "text": [
      "ID\n",
      "A801169401    False\n",
      "A801169402    False\n",
      "A801169403    False\n",
      "A801169404    False\n",
      "A801169405    False\n",
      "              ...  \n",
      "R804366601    False\n",
      "R804368301    False\n",
      "R804368302    False\n",
      "R804371701    False\n",
      "R804371702    False\n",
      "Name: AD2, Length: 7359, dtype: bool\n",
      "False    6874\n",
      "True      485\n",
      "Name: AD2, dtype: int64\n"
     ]
    }
   ],
   "source": [
    "for i in range(len(data)):\n",
    "    if LQ_5EQL.isin((1,2,3)).any():\n",
    "        AD2 = LQ_5EQL == 2\n",
    "\n",
    "data['AD2'] = AD2\n",
    "print(data['AD2'])\n",
    "print(data['AD2'].value_counts())"
   ],
   "metadata": {
    "collapsed": false
   }
  },
  {
   "cell_type": "code",
   "execution_count": 18,
   "outputs": [
    {
     "name": "stdout",
     "output_type": "stream",
     "text": [
      "ID\n",
      "A801169401    False\n",
      "A801169402    False\n",
      "A801169403    False\n",
      "A801169404    False\n",
      "A801169405    False\n",
      "              ...  \n",
      "R804366601    False\n",
      "R804368301    False\n",
      "R804368302    False\n",
      "R804371701    False\n",
      "R804371702    False\n",
      "Name: AD3, Length: 7359, dtype: bool\n",
      "False    7327\n",
      "True       32\n",
      "Name: AD3, dtype: int64\n"
     ]
    }
   ],
   "source": [
    "for i in range(len(data)):\n",
    "    if LQ_5EQL.isin((1,2,3)).any():\n",
    "        AD3 = LQ_5EQL == 3\n",
    "\n",
    "data['AD3'] = AD3\n",
    "print(data['AD3'])\n",
    "print(data['AD3'].value_counts())"
   ],
   "metadata": {
    "collapsed": false
   }
  },
  {
   "cell_type": "code",
   "execution_count": 19,
   "outputs": [
    {
     "name": "stdout",
     "output_type": "stream",
     "text": [
      "ID\n",
      "A801169401    True\n",
      "A801169402    True\n",
      "A801169403    True\n",
      "A801169404    True\n",
      "A801169405    True\n",
      "              ... \n",
      "R804366601    True\n",
      "R804368301    True\n",
      "R804368302    True\n",
      "R804371701    True\n",
      "R804371702    True\n",
      "Name: N3, Length: 7359, dtype: bool\n",
      "True    7359\n",
      "Name: N3, dtype: int64\n"
     ]
    }
   ],
   "source": [
    "for i in range(len(data)) :\n",
    "    if ((LQ_1EQL.isin((1,2,3))) & (LQ_2EQL.isin((1,2,3))) & (LQ_3EQL.isin((1,2,3))) & (LQ_4EQL.isin((1,2,3))) & (LQ_5EQL.isin((1,2,3)))).any() :\n",
    "        N3 = ((LQ_1EQL == 3) | (LQ_2EQL == 3) | (LQ_3EQL == 3) | (LQ_4EQL == 3) | (LQ_5EQL == 3)).any()\n",
    "\n",
    "data['N3'] = N3\n",
    "print(data['N3'])\n",
    "print(data['N3'].value_counts())\n"
   ],
   "metadata": {
    "collapsed": false
   }
  },
  {
   "cell_type": "code",
   "execution_count": 20,
   "outputs": [
    {
     "name": "stdout",
     "output_type": "stream",
     "text": [
      "ID\n",
      "A801169401    0.9\n",
      "A801169402    0.9\n",
      "A801169403    0.9\n",
      "A801169404    0.9\n",
      "A801169405    0.9\n",
      "             ... \n",
      "R804366601    0.9\n",
      "R804368301    0.9\n",
      "R804368302    0.9\n",
      "R804371701    0.9\n",
      "R804371702    0.9\n",
      "Name: eq5l_new, Length: 7359, dtype: float64\n",
      "0.900    5807\n",
      "0.863     455\n",
      "0.804     178\n",
      "0.857     165\n",
      "0.767     140\n",
      "         ... \n",
      "0.077       1\n",
      "0.664       1\n",
      "0.280       1\n",
      "0.348       1\n",
      "0.591       1\n",
      "Name: eq5l_new, Length: 77, dtype: int64\n"
     ]
    }
   ],
   "source": [
    "for i in range(len(data)) :\n",
    "    eq5l_new = 1 - (0.05 + 0.096 * M2 + 0.418 * M3 + 0.046 * SC2 + 0.136 * SC3 + 0.051 * UA2 + 0.208 * UA3 + 0.037 * PD2 + 0.151 * PD3 + 0.043 * AD2 + 0.158 * AD3 + 0.05 * N3)\n",
    "\n",
    "data['eq5l_new'] = eq5l_new\n",
    "\n",
    "print(data['eq5l_new'])\n",
    "print(data['eq5l_new'].value_counts())\n",
    "\n"
   ],
   "metadata": {
    "collapsed": false
   }
  },
  {
   "cell_type": "code",
   "execution_count": 21,
   "outputs": [
    {
     "name": "stdout",
     "output_type": "stream",
     "text": [
      "0.900    0.789102\n",
      "0.863    0.061829\n",
      "0.804    0.024188\n",
      "0.857    0.022422\n",
      "0.767    0.019024\n",
      "           ...   \n",
      "0.077    0.000136\n",
      "0.664    0.000136\n",
      "0.280    0.000136\n",
      "0.348    0.000136\n",
      "0.591    0.000136\n",
      "Name: eq5l_new, Length: 77, dtype: float64\n"
     ]
    }
   ],
   "source": [
    "print(data['eq5l_new'].value_counts(1))"
   ],
   "metadata": {
    "collapsed": false
   }
  },
  {
   "cell_type": "code",
   "execution_count": 22,
   "outputs": [
    {
     "data": {
      "text/plain": "            EQ5D  eq5l_new\nID                        \nA801169401   1.0       0.9\nA801169402   1.0       0.9\nA801169403   NaN       0.9\nA801169404   NaN       0.9\nA801169405   NaN       0.9\n...          ...       ...\nR804366601   1.0       0.9\nR804368301   1.0       0.9\nR804368302   1.0       0.9\nR804371701   1.0       0.9\nR804371702   1.0       0.9\n\n[7359 rows x 2 columns]",
      "text/html": "<div>\n<style scoped>\n    .dataframe tbody tr th:only-of-type {\n        vertical-align: middle;\n    }\n\n    .dataframe tbody tr th {\n        vertical-align: top;\n    }\n\n    .dataframe thead th {\n        text-align: right;\n    }\n</style>\n<table border=\"1\" class=\"dataframe\">\n  <thead>\n    <tr style=\"text-align: right;\">\n      <th></th>\n      <th>EQ5D</th>\n      <th>eq5l_new</th>\n    </tr>\n    <tr>\n      <th>ID</th>\n      <th></th>\n      <th></th>\n    </tr>\n  </thead>\n  <tbody>\n    <tr>\n      <th>A801169401</th>\n      <td>1.0</td>\n      <td>0.9</td>\n    </tr>\n    <tr>\n      <th>A801169402</th>\n      <td>1.0</td>\n      <td>0.9</td>\n    </tr>\n    <tr>\n      <th>A801169403</th>\n      <td>NaN</td>\n      <td>0.9</td>\n    </tr>\n    <tr>\n      <th>A801169404</th>\n      <td>NaN</td>\n      <td>0.9</td>\n    </tr>\n    <tr>\n      <th>A801169405</th>\n      <td>NaN</td>\n      <td>0.9</td>\n    </tr>\n    <tr>\n      <th>...</th>\n      <td>...</td>\n      <td>...</td>\n    </tr>\n    <tr>\n      <th>R804366601</th>\n      <td>1.0</td>\n      <td>0.9</td>\n    </tr>\n    <tr>\n      <th>R804368301</th>\n      <td>1.0</td>\n      <td>0.9</td>\n    </tr>\n    <tr>\n      <th>R804368302</th>\n      <td>1.0</td>\n      <td>0.9</td>\n    </tr>\n    <tr>\n      <th>R804371701</th>\n      <td>1.0</td>\n      <td>0.9</td>\n    </tr>\n    <tr>\n      <th>R804371702</th>\n      <td>1.0</td>\n      <td>0.9</td>\n    </tr>\n  </tbody>\n</table>\n<p>7359 rows × 2 columns</p>\n</div>"
     },
     "execution_count": 22,
     "metadata": {},
     "output_type": "execute_result"
    }
   ],
   "source": [
    "data[['EQ5D', 'eq5l_new']]"
   ],
   "metadata": {
    "collapsed": false
   }
  },
  {
   "cell_type": "markdown",
   "source": [
    "총 데이터 개수 7359\n",
    "0.9 : 5807\n",
    "0.9 가 아닌 데이터 : 1552"
   ],
   "metadata": {
    "collapsed": false
   }
  },
  {
   "cell_type": "code",
   "execution_count": 23,
   "outputs": [
    {
     "ename": "AttributeError",
     "evalue": "'Series' object has no attribute 'value_count'",
     "output_type": "error",
     "traceback": [
      "\u001B[0;31m---------------------------------------------------------------------------\u001B[0m",
      "\u001B[0;31mAttributeError\u001B[0m                            Traceback (most recent call last)",
      "Cell \u001B[0;32mIn[23], line 1\u001B[0m\n\u001B[0;32m----> 1\u001B[0m \u001B[43mdata\u001B[49m\u001B[43m[\u001B[49m\u001B[38;5;124;43m'\u001B[39;49m\u001B[38;5;124;43meq5l_new\u001B[39;49m\u001B[38;5;124;43m'\u001B[39;49m\u001B[43m]\u001B[49m\u001B[38;5;241;43m.\u001B[39;49m\u001B[43mvalue_count\u001B[49m([\u001B[38;5;241m0.9\u001B[39m])\n",
      "File \u001B[0;32m~/.conda/envs/scientificProject/lib/python3.10/site-packages/pandas/core/generic.py:5902\u001B[0m, in \u001B[0;36mNDFrame.__getattr__\u001B[0;34m(self, name)\u001B[0m\n\u001B[1;32m   5895\u001B[0m \u001B[38;5;28;01mif\u001B[39;00m (\n\u001B[1;32m   5896\u001B[0m     name \u001B[38;5;129;01mnot\u001B[39;00m \u001B[38;5;129;01min\u001B[39;00m \u001B[38;5;28mself\u001B[39m\u001B[38;5;241m.\u001B[39m_internal_names_set\n\u001B[1;32m   5897\u001B[0m     \u001B[38;5;129;01mand\u001B[39;00m name \u001B[38;5;129;01mnot\u001B[39;00m \u001B[38;5;129;01min\u001B[39;00m \u001B[38;5;28mself\u001B[39m\u001B[38;5;241m.\u001B[39m_metadata\n\u001B[1;32m   5898\u001B[0m     \u001B[38;5;129;01mand\u001B[39;00m name \u001B[38;5;129;01mnot\u001B[39;00m \u001B[38;5;129;01min\u001B[39;00m \u001B[38;5;28mself\u001B[39m\u001B[38;5;241m.\u001B[39m_accessors\n\u001B[1;32m   5899\u001B[0m     \u001B[38;5;129;01mand\u001B[39;00m \u001B[38;5;28mself\u001B[39m\u001B[38;5;241m.\u001B[39m_info_axis\u001B[38;5;241m.\u001B[39m_can_hold_identifiers_and_holds_name(name)\n\u001B[1;32m   5900\u001B[0m ):\n\u001B[1;32m   5901\u001B[0m     \u001B[38;5;28;01mreturn\u001B[39;00m \u001B[38;5;28mself\u001B[39m[name]\n\u001B[0;32m-> 5902\u001B[0m \u001B[38;5;28;01mreturn\u001B[39;00m \u001B[38;5;28;43mobject\u001B[39;49m\u001B[38;5;241;43m.\u001B[39;49m\u001B[38;5;21;43m__getattribute__\u001B[39;49m\u001B[43m(\u001B[49m\u001B[38;5;28;43mself\u001B[39;49m\u001B[43m,\u001B[49m\u001B[43m \u001B[49m\u001B[43mname\u001B[49m\u001B[43m)\u001B[49m\n",
      "\u001B[0;31mAttributeError\u001B[0m: 'Series' object has no attribute 'value_count'"
     ]
    }
   ],
   "source": [
    "data['eq5l_new'].value_count([0.9])"
   ],
   "metadata": {
    "collapsed": false
   }
  },
  {
   "cell_type": "code",
   "execution_count": null,
   "outputs": [],
   "source": [
    "data"
   ],
   "metadata": {
    "collapsed": false
   }
  },
  {
   "cell_type": "code",
   "execution_count": null,
   "outputs": [],
   "source": [
    "data.to_csv('../datasets/20_dataset_eq5d.csv', index=True)"
   ],
   "metadata": {
    "collapsed": false
   }
  },
  {
   "cell_type": "code",
   "execution_count": null,
   "outputs": [],
   "source": [],
   "metadata": {
    "collapsed": false
   }
  }
 ],
 "metadata": {
  "kernelspec": {
   "display_name": "Python 3",
   "language": "python",
   "name": "python3"
  },
  "language_info": {
   "codemirror_mode": {
    "name": "ipython",
    "version": 2
   },
   "file_extension": ".py",
   "mimetype": "text/x-python",
   "name": "python",
   "nbconvert_exporter": "python",
   "pygments_lexer": "ipython2",
   "version": "2.7.6"
  }
 },
 "nbformat": 4,
 "nbformat_minor": 0
}
